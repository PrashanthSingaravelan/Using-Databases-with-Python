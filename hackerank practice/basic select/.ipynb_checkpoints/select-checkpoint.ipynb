{
 "cells": [
  {
   "cell_type": "code",
   "execution_count": 1,
   "id": "0562013e",
   "metadata": {},
   "outputs": [],
   "source": [
    "import pandas as pd\n",
    "from pandasql import sqldf"
   ]
  },
  {
   "cell_type": "code",
   "execution_count": 2,
   "id": "8f56f73c",
   "metadata": {},
   "outputs": [
    {
     "data": {
      "text/html": [
       "<div>\n",
       "<style scoped>\n",
       "    .dataframe tbody tr th:only-of-type {\n",
       "        vertical-align: middle;\n",
       "    }\n",
       "\n",
       "    .dataframe tbody tr th {\n",
       "        vertical-align: top;\n",
       "    }\n",
       "\n",
       "    .dataframe thead th {\n",
       "        text-align: right;\n",
       "    }\n",
       "</style>\n",
       "<table border=\"1\" class=\"dataframe\">\n",
       "  <thead>\n",
       "    <tr style=\"text-align: right;\">\n",
       "      <th></th>\n",
       "      <th>ID</th>\n",
       "      <th>STATE_CODE</th>\n",
       "      <th>STATE_NAME</th>\n",
       "      <th>CITY</th>\n",
       "      <th>COUNTY</th>\n",
       "      <th>LATITUDE</th>\n",
       "      <th>LONGITUDE</th>\n",
       "    </tr>\n",
       "  </thead>\n",
       "  <tbody>\n",
       "    <tr>\n",
       "      <th>0</th>\n",
       "      <td>1</td>\n",
       "      <td>AK</td>\n",
       "      <td>Alaska</td>\n",
       "      <td>Adak</td>\n",
       "      <td>Aleutians West</td>\n",
       "      <td>55.999722</td>\n",
       "      <td>-161.207778</td>\n",
       "    </tr>\n",
       "    <tr>\n",
       "      <th>1</th>\n",
       "      <td>2</td>\n",
       "      <td>AK</td>\n",
       "      <td>Alaska</td>\n",
       "      <td>Akiachak</td>\n",
       "      <td>Bethel</td>\n",
       "      <td>60.891854</td>\n",
       "      <td>-161.392330</td>\n",
       "    </tr>\n",
       "    <tr>\n",
       "      <th>2</th>\n",
       "      <td>3</td>\n",
       "      <td>AK</td>\n",
       "      <td>Alaska</td>\n",
       "      <td>Akiak</td>\n",
       "      <td>Bethel</td>\n",
       "      <td>60.890632</td>\n",
       "      <td>-161.199325</td>\n",
       "    </tr>\n",
       "    <tr>\n",
       "      <th>3</th>\n",
       "      <td>4</td>\n",
       "      <td>AK</td>\n",
       "      <td>Alaska</td>\n",
       "      <td>Akutan</td>\n",
       "      <td>Aleutians East</td>\n",
       "      <td>54.143012</td>\n",
       "      <td>-165.785368</td>\n",
       "    </tr>\n",
       "    <tr>\n",
       "      <th>4</th>\n",
       "      <td>5</td>\n",
       "      <td>AK</td>\n",
       "      <td>Alaska</td>\n",
       "      <td>Alakanuk</td>\n",
       "      <td>Kusilvak</td>\n",
       "      <td>62.746967</td>\n",
       "      <td>-164.602280</td>\n",
       "    </tr>\n",
       "  </tbody>\n",
       "</table>\n",
       "</div>"
      ],
      "text/plain": [
       "   ID STATE_CODE STATE_NAME      CITY          COUNTY   LATITUDE   LONGITUDE\n",
       "0   1         AK     Alaska      Adak  Aleutians West  55.999722 -161.207778\n",
       "1   2         AK     Alaska  Akiachak          Bethel  60.891854 -161.392330\n",
       "2   3         AK     Alaska     Akiak          Bethel  60.890632 -161.199325\n",
       "3   4         AK     Alaska    Akutan  Aleutians East  54.143012 -165.785368\n",
       "4   5         AK     Alaska  Alakanuk        Kusilvak  62.746967 -164.602280"
      ]
     },
     "execution_count": 2,
     "metadata": {},
     "output_type": "execute_result"
    }
   ],
   "source": [
    "df = pd.read_csv('us_cities.csv')\n",
    "df.head()"
   ]
  },
  {
   "cell_type": "markdown",
   "id": "6604945a",
   "metadata": {},
   "source": [
    "## Weather Observation Station 4"
   ]
  },
  {
   "cell_type": "code",
   "execution_count": 3,
   "id": "66fcfbbe",
   "metadata": {},
   "outputs": [
    {
     "name": "stdout",
     "output_type": "stream",
     "text": [
      "   COUNT(CITY)\n",
      "0        29880\n",
      "\n",
      "\n",
      "   COUNT(DISTINCT CITY)\n",
      "0                 18720\n"
     ]
    }
   ],
   "source": [
    "q = \"SELECT COUNT(CITY) FROM df\"\n",
    "p = \"SELECT COUNT(DISTINCT CITY) FROM df\"\n",
    "\n",
    "print(sqldf(q, globals()))\n",
    "print(\"\\n\")\n",
    "print(sqldf(p, globals()))"
   ]
  },
  {
   "cell_type": "code",
   "execution_count": 4,
   "id": "35db6c75",
   "metadata": {},
   "outputs": [
    {
     "data": {
      "text/html": [
       "<div>\n",
       "<style scoped>\n",
       "    .dataframe tbody tr th:only-of-type {\n",
       "        vertical-align: middle;\n",
       "    }\n",
       "\n",
       "    .dataframe tbody tr th {\n",
       "        vertical-align: top;\n",
       "    }\n",
       "\n",
       "    .dataframe thead th {\n",
       "        text-align: right;\n",
       "    }\n",
       "</style>\n",
       "<table border=\"1\" class=\"dataframe\">\n",
       "  <thead>\n",
       "    <tr style=\"text-align: right;\">\n",
       "      <th></th>\n",
       "      <th>DIFFERENCE</th>\n",
       "    </tr>\n",
       "  </thead>\n",
       "  <tbody>\n",
       "    <tr>\n",
       "      <th>0</th>\n",
       "      <td>11160</td>\n",
       "    </tr>\n",
       "  </tbody>\n",
       "</table>\n",
       "</div>"
      ],
      "text/plain": [
       "   DIFFERENCE\n",
       "0       11160"
      ]
     },
     "execution_count": 4,
     "metadata": {},
     "output_type": "execute_result"
    }
   ],
   "source": [
    "q = \"SELECT COUNT(CITY) - COUNT(DISTINCT CITY) AS DIFFERENCE FROM df\"\n",
    "\n",
    "sqldf(q, globals())"
   ]
  },
  {
   "cell_type": "markdown",
   "id": "b6f38667",
   "metadata": {},
   "source": [
    "## Weather Observation Station 5"
   ]
  },
  {
   "cell_type": "markdown",
   "id": "2041e46e",
   "metadata": {},
   "source": [
    "<img src = \"Weather Observation Station 5.png\">"
   ]
  },
  {
   "cell_type": "markdown",
   "id": "057f1cee",
   "metadata": {},
   "source": [
    "min length \n",
    "\n",
    "max length \n",
    "\n",
    "which city name comes first (So city must be in ascending order)"
   ]
  },
  {
   "cell_type": "code",
   "execution_count": 5,
   "id": "295d838e",
   "metadata": {},
   "outputs": [
    {
     "data": {
      "text/html": [
       "<div>\n",
       "<style scoped>\n",
       "    .dataframe tbody tr th:only-of-type {\n",
       "        vertical-align: middle;\n",
       "    }\n",
       "\n",
       "    .dataframe tbody tr th {\n",
       "        vertical-align: top;\n",
       "    }\n",
       "\n",
       "    .dataframe thead th {\n",
       "        text-align: right;\n",
       "    }\n",
       "</style>\n",
       "<table border=\"1\" class=\"dataframe\">\n",
       "  <thead>\n",
       "    <tr style=\"text-align: right;\">\n",
       "      <th></th>\n",
       "      <th>CITY</th>\n",
       "    </tr>\n",
       "  </thead>\n",
       "  <tbody>\n",
       "    <tr>\n",
       "      <th>0</th>\n",
       "      <td>Aaronsburg</td>\n",
       "    </tr>\n",
       "    <tr>\n",
       "      <th>1</th>\n",
       "      <td>Abbeville</td>\n",
       "    </tr>\n",
       "    <tr>\n",
       "      <th>2</th>\n",
       "      <td>Abbeville</td>\n",
       "    </tr>\n",
       "    <tr>\n",
       "      <th>3</th>\n",
       "      <td>Abbeville</td>\n",
       "    </tr>\n",
       "    <tr>\n",
       "      <th>4</th>\n",
       "      <td>Abbeville</td>\n",
       "    </tr>\n",
       "  </tbody>\n",
       "</table>\n",
       "</div>"
      ],
      "text/plain": [
       "         CITY\n",
       "0  Aaronsburg\n",
       "1   Abbeville\n",
       "2   Abbeville\n",
       "3   Abbeville\n",
       "4   Abbeville"
      ]
     },
     "execution_count": 5,
     "metadata": {},
     "output_type": "execute_result"
    }
   ],
   "source": [
    "a = \"SELECT CITY FROM df ORDER BY CITY ASC\"\n",
    "\n",
    "sqldf(a, globals()).head()"
   ]
  },
  {
   "cell_type": "code",
   "execution_count": 6,
   "id": "ccadd047",
   "metadata": {},
   "outputs": [
    {
     "data": {
      "text/html": [
       "<div>\n",
       "<style scoped>\n",
       "    .dataframe tbody tr th:only-of-type {\n",
       "        vertical-align: middle;\n",
       "    }\n",
       "\n",
       "    .dataframe tbody tr th {\n",
       "        vertical-align: top;\n",
       "    }\n",
       "\n",
       "    .dataframe thead th {\n",
       "        text-align: right;\n",
       "    }\n",
       "</style>\n",
       "<table border=\"1\" class=\"dataframe\">\n",
       "  <thead>\n",
       "    <tr style=\"text-align: right;\">\n",
       "      <th></th>\n",
       "      <th>CITY</th>\n",
       "      <th>LENGTH(CITY)</th>\n",
       "    </tr>\n",
       "  </thead>\n",
       "  <tbody>\n",
       "    <tr>\n",
       "      <th>0</th>\n",
       "      <td>Tripler Army Medical Center</td>\n",
       "      <td>27</td>\n",
       "    </tr>\n",
       "    <tr>\n",
       "      <th>1</th>\n",
       "      <td>Little Rock Air Force Base</td>\n",
       "      <td>26</td>\n",
       "    </tr>\n",
       "    <tr>\n",
       "      <th>2</th>\n",
       "      <td>Kiamichi Christian Mission</td>\n",
       "      <td>26</td>\n",
       "    </tr>\n",
       "    <tr>\n",
       "      <th>3</th>\n",
       "      <td>King And Queen Court House</td>\n",
       "      <td>26</td>\n",
       "    </tr>\n",
       "    <tr>\n",
       "      <th>4</th>\n",
       "      <td>Hot Springs National Park</td>\n",
       "      <td>25</td>\n",
       "    </tr>\n",
       "  </tbody>\n",
       "</table>\n",
       "</div>"
      ],
      "text/plain": [
       "                          CITY  LENGTH(CITY)\n",
       "0  Tripler Army Medical Center            27\n",
       "1   Little Rock Air Force Base            26\n",
       "2   Kiamichi Christian Mission            26\n",
       "3   King And Queen Court House            26\n",
       "4    Hot Springs National Park            25"
      ]
     },
     "execution_count": 6,
     "metadata": {},
     "output_type": "execute_result"
    }
   ],
   "source": [
    "x = \"SELECT CITY, LENGTH(CITY) FROM df ORDER BY LENGTH(CITY) DESC\"\n",
    "sqldf(x, globals()).head()"
   ]
  },
  {
   "cell_type": "code",
   "execution_count": 7,
   "id": "b8f291a6",
   "metadata": {},
   "outputs": [
    {
     "data": {
      "text/html": [
       "<div>\n",
       "<style scoped>\n",
       "    .dataframe tbody tr th:only-of-type {\n",
       "        vertical-align: middle;\n",
       "    }\n",
       "\n",
       "    .dataframe tbody tr th {\n",
       "        vertical-align: top;\n",
       "    }\n",
       "\n",
       "    .dataframe thead th {\n",
       "        text-align: right;\n",
       "    }\n",
       "</style>\n",
       "<table border=\"1\" class=\"dataframe\">\n",
       "  <thead>\n",
       "    <tr style=\"text-align: right;\">\n",
       "      <th></th>\n",
       "      <th>CITY</th>\n",
       "      <th>LENGTH(CITY)</th>\n",
       "    </tr>\n",
       "  </thead>\n",
       "  <tbody>\n",
       "    <tr>\n",
       "      <th>0</th>\n",
       "      <td>Tripler Army Medical Center</td>\n",
       "      <td>27</td>\n",
       "    </tr>\n",
       "  </tbody>\n",
       "</table>\n",
       "</div>"
      ],
      "text/plain": [
       "                          CITY  LENGTH(CITY)\n",
       "0  Tripler Army Medical Center            27"
      ]
     },
     "execution_count": 7,
     "metadata": {},
     "output_type": "execute_result"
    }
   ],
   "source": [
    "x = \"SELECT CITY, LENGTH(CITY) FROM df ORDER BY LENGTH(CITY) DESC, CITY ASC LIMIT 1\"\n",
    "sqldf(x, globals()).head()"
   ]
  },
  {
   "cell_type": "code",
   "execution_count": 8,
   "id": "6be5807b",
   "metadata": {},
   "outputs": [
    {
     "data": {
      "text/html": [
       "<div>\n",
       "<style scoped>\n",
       "    .dataframe tbody tr th:only-of-type {\n",
       "        vertical-align: middle;\n",
       "    }\n",
       "\n",
       "    .dataframe tbody tr th {\n",
       "        vertical-align: top;\n",
       "    }\n",
       "\n",
       "    .dataframe thead th {\n",
       "        text-align: right;\n",
       "    }\n",
       "</style>\n",
       "<table border=\"1\" class=\"dataframe\">\n",
       "  <thead>\n",
       "    <tr style=\"text-align: right;\">\n",
       "      <th></th>\n",
       "      <th>CITY</th>\n",
       "      <th>LENGTH(CITY)</th>\n",
       "    </tr>\n",
       "  </thead>\n",
       "  <tbody>\n",
       "    <tr>\n",
       "      <th>0</th>\n",
       "      <td>Ace</td>\n",
       "      <td>3</td>\n",
       "    </tr>\n",
       "  </tbody>\n",
       "</table>\n",
       "</div>"
      ],
      "text/plain": [
       "  CITY  LENGTH(CITY)\n",
       "0  Ace             3"
      ]
     },
     "execution_count": 8,
     "metadata": {},
     "output_type": "execute_result"
    }
   ],
   "source": [
    "y = \"SELECT CITY, LENGTH(CITY) FROM df ORDER BY LENGTH(CITY) ASC, CITY ASC LIMIT 1\"\n",
    "sqldf(y, globals())"
   ]
  },
  {
   "cell_type": "markdown",
   "id": "b0212c0a",
   "metadata": {},
   "source": [
    "## Weather Observation Station 6\n",
    "\n",
    "<img src = \"Weather Observation Station 6.png\">"
   ]
  },
  {
   "cell_type": "code",
   "execution_count": 9,
   "id": "b4aa28c3",
   "metadata": {},
   "outputs": [],
   "source": [
    "# p = 'select distinct city from df where REGEXP_LIKE(lower(city), \"^[aeiou]\")'\n",
    "# sqldf(p, globals())"
   ]
  },
  {
   "cell_type": "markdown",
   "id": "7d7a6873",
   "metadata": {},
   "source": [
    "## Weather Observation Station 7\n",
    "\n",
    "<img src = \"Weather Observation Station 7.png\">"
   ]
  },
  {
   "cell_type": "code",
   "execution_count": 10,
   "id": "a43f963d",
   "metadata": {},
   "outputs": [],
   "source": [
    "# p = 'select distinct city from df where REGEXP_LIKE(lower(city), \"[aeiou]$\")'\n",
    "# sqldf(p, globals())"
   ]
  },
  {
   "cell_type": "code",
   "execution_count": 11,
   "id": "661813a6",
   "metadata": {},
   "outputs": [
    {
     "data": {
      "text/plain": [
       "'\\n^[aeiou] --> compares with the starting letter \\n\\n[aeiou]$ --> compares with the ending letter\\n'"
      ]
     },
     "execution_count": 11,
     "metadata": {},
     "output_type": "execute_result"
    }
   ],
   "source": [
    "'''\n",
    "^[aeiou] --> compares with the starting letter \n",
    "\n",
    "[aeiou]$ --> compares with the ending letter\n",
    "'''"
   ]
  },
  {
   "cell_type": "markdown",
   "id": "289b84e1",
   "metadata": {},
   "source": [
    "## Weather Observation Station 8\n",
    "\n",
    "<img src = \"Weather Observation Station 8.png\">"
   ]
  },
  {
   "cell_type": "code",
   "execution_count": 12,
   "id": "103f93bd",
   "metadata": {},
   "outputs": [],
   "source": [
    "# select distinct city from station \n",
    "# where \n",
    "#     REGEXP_LIKE(lower(city), \"^[aeiou]\") and \n",
    "#     REGEXP_LIKE(lower(city), \"[aeiou]$\")"
   ]
  },
  {
   "cell_type": "markdown",
   "id": "ed62aa38",
   "metadata": {},
   "source": [
    "## Weather Observation Station 9\n",
    "\n",
    "<img src = \"Weather Observation Station 9.png\">"
   ]
  },
  {
   "cell_type": "code",
   "execution_count": 13,
   "id": "dcb7f8ff",
   "metadata": {},
   "outputs": [],
   "source": [
    "# select distinct city from df \n",
    "# where not\n",
    "#      REGEXP_LIKE(lower(city), \"^[aeiou]\")"
   ]
  },
  {
   "cell_type": "markdown",
   "id": "ae327f3b",
   "metadata": {},
   "source": [
    "## Weather Observation Station 10\n",
    "\n",
    "<img src = \"Weather Observation Station 10.png\">"
   ]
  },
  {
   "cell_type": "code",
   "execution_count": 14,
   "id": "db935624",
   "metadata": {},
   "outputs": [],
   "source": [
    "# select distinct city from df \n",
    "# where not\n",
    "#      REGEXP_LIKE(lower(city), \"[aeiou]$\")"
   ]
  },
  {
   "cell_type": "markdown",
   "id": "509d2451",
   "metadata": {},
   "source": [
    "## Weather Observation Station 11\n",
    "\n",
    "<img src = \"Weather Observation Station 11.png\">"
   ]
  },
  {
   "cell_type": "code",
   "execution_count": 15,
   "id": "8d1d5251",
   "metadata": {},
   "outputs": [],
   "source": [
    "# select distinct city from station \n",
    "# where not regexp_like(lower(city), '^[aeiou]') or \n",
    "#           not regexp_like(lower(city), '[aeiou]$')"
   ]
  },
  {
   "cell_type": "markdown",
   "id": "44097b99",
   "metadata": {},
   "source": [
    "## Weather Observation Station 12\n",
    "\n",
    "<img src = \"Weather Observation Station 12.png\">"
   ]
  },
  {
   "cell_type": "code",
   "execution_count": 16,
   "id": "964373a2",
   "metadata": {},
   "outputs": [],
   "source": [
    "# select distinct city from station \n",
    "# where not regexp_like(lower(city), '^[aeiou]') and\n",
    "#           not regexp_like(lower(city), '[aeiou]$')"
   ]
  },
  {
   "cell_type": "markdown",
   "id": "46a3b9ef",
   "metadata": {},
   "source": [
    "## Higher Than 75 Marks\n",
    "\n",
    "<img src = \"Higher Than 75 Marks.png\">"
   ]
  },
  {
   "cell_type": "code",
   "execution_count": null,
   "id": "0361e4a3",
   "metadata": {},
   "outputs": [],
   "source": []
  }
 ],
 "metadata": {
  "kernelspec": {
   "display_name": "Python 3.9.7 ('base')",
   "language": "python",
   "name": "python397jvsc74a57bd0b7a2a0b4f94735ea31e77398a02d224ee82f8658043a15390cdd4e6a2ed959b7"
  },
  "language_info": {
   "codemirror_mode": {
    "name": "ipython",
    "version": 3
   },
   "file_extension": ".py",
   "mimetype": "text/x-python",
   "name": "python",
   "nbconvert_exporter": "python",
   "pygments_lexer": "ipython3",
   "version": "3.9.7"
  }
 },
 "nbformat": 4,
 "nbformat_minor": 5
}
